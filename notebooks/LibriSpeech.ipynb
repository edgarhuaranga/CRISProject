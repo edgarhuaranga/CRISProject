{
  "cells": [
    {
      "cell_type": "markdown",
      "metadata": {
        "id": "v5hvo8QWN-a9"
      },
      "source": [
        "# Installing Whisper\n",
        "\n",
        "The commands below will install the Python packages needed to use Whisper models and evaluate the transcription results."
      ]
    },
    {
      "cell_type": "code",
      "execution_count": null,
      "metadata": {
        "id": "ZsJUxc0aRsAf"
      },
      "outputs": [],
      "source": [
        "! pip install git+https://github.com/openai/whisper.git\n",
        "! pip install jiwer"
      ]
    },
    {
      "cell_type": "markdown",
      "metadata": {
        "id": "1IMEkgyagYto"
      },
      "source": [
        "# Loading the LibriSpeech dataset\n",
        "\n",
        "The following will load the test-clean split of the LibriSpeech corpus using torchaudio."
      ]
    },
    {
      "cell_type": "code",
      "execution_count": 2,
      "metadata": {
        "id": "3CqtR2Fi5-vP"
      },
      "outputs": [],
      "source": [
        "import os\n",
        "import numpy as np\n",
        "\n",
        "try:\n",
        "    import tensorflow  # required in Colab to avoid protobuf compatibility issues\n",
        "except ImportError:\n",
        "    pass\n",
        "\n",
        "import torch\n",
        "import pandas as pd\n",
        "import whisper\n",
        "import torchaudio\n",
        "\n",
        "from tqdm.notebook import tqdm\n",
        "\n",
        "\n",
        "DEVICE = \"cuda\" if torch.cuda.is_available() else \"cpu\""
      ]
    },
    {
      "cell_type": "code",
      "execution_count": 3,
      "metadata": {
        "id": "GuCCB2KYOJCE"
      },
      "outputs": [],
      "source": [
        "class LibriSpeech(torch.utils.data.Dataset):\n",
        "    \"\"\"\n",
        "    A simple class to wrap LibriSpeech and trim/pad the audio to 30 seconds.\n",
        "    It will drop the last few seconds of a very small portion of the utterances.\n",
        "    \"\"\"\n",
        "    def __init__(self, split=\"test-clean\", device=DEVICE):\n",
        "        self.dataset = torchaudio.datasets.LIBRISPEECH(\n",
        "            root=os.path.expanduser(\"~/.cache\"),\n",
        "            url=split,\n",
        "            download=True,\n",
        "        )\n",
        "        self.device = device\n",
        "\n",
        "    def __len__(self):\n",
        "        return len(self.dataset)\n",
        "\n",
        "    def __getitem__(self, item):\n",
        "        audio, sample_rate, text, _, _, _ = self.dataset[item]\n",
        "        assert sample_rate == 16000\n",
        "        audio = whisper.pad_or_trim(audio.flatten()).to(self.device)\n",
        "        mel = whisper.log_mel_spectrogram(audio)\n",
        "\n",
        "        return (mel, text)"
      ]
    },
    {
      "cell_type": "code",
      "execution_count": 4,
      "metadata": {
        "id": "-YcRU5jqNqo2",
        "outputId": "fa223f3a-f82a-4453-a6d6-ba968728b0f1",
        "colab": {
          "base_uri": "https://localhost:8080/"
        }
      },
      "outputs": [
        {
          "output_type": "stream",
          "name": "stderr",
          "text": [
            "100%|██████████| 331M/331M [00:27<00:00, 12.5MB/s]\n"
          ]
        }
      ],
      "source": [
        "dataset = LibriSpeech(\"test-clean\")\n",
        "loader = torch.utils.data.DataLoader(dataset, batch_size=16)"
      ]
    },
    {
      "cell_type": "markdown",
      "metadata": {
        "id": "0ljocCNuUAde"
      },
      "source": [
        "# Running inference on the dataset using a base Whisper model\n",
        "\n",
        "The following will take a few minutes to transcribe all utterances in the dataset."
      ]
    },
    {
      "cell_type": "code",
      "execution_count": 5,
      "metadata": {
        "colab": {
          "base_uri": "https://localhost:8080/"
        },
        "id": "_PokfNJtOYNu",
        "outputId": "a2a1663b-d934-4226-b647-1c4b9f1a0e90"
      },
      "outputs": [
        {
          "output_type": "stream",
          "name": "stderr",
          "text": [
            "100%|███████████████████████████████████████| 139M/139M [00:02<00:00, 56.8MiB/s]\n",
            "/usr/local/lib/python3.10/dist-packages/whisper/__init__.py:150: FutureWarning: You are using `torch.load` with `weights_only=False` (the current default value), which uses the default pickle module implicitly. It is possible to construct malicious pickle data which will execute arbitrary code during unpickling (See https://github.com/pytorch/pytorch/blob/main/SECURITY.md#untrusted-models for more details). In a future release, the default value for `weights_only` will be flipped to `True`. This limits the functions that could be executed during unpickling. Arbitrary objects will no longer be allowed to be loaded via this mode unless they are explicitly allowlisted by the user via `torch.serialization.add_safe_globals`. We recommend you start setting `weights_only=True` for any use case where you don't have full control of the loaded file. Please open an issue on GitHub for any issues related to this experimental feature.\n",
            "  checkpoint = torch.load(fp, map_location=device)\n"
          ]
        },
        {
          "output_type": "stream",
          "name": "stdout",
          "text": [
            "Model is English-only and has 71,825,408 parameters.\n"
          ]
        }
      ],
      "source": [
        "model = whisper.load_model(\"base.en\")\n",
        "print(\n",
        "    f\"Model is {'multilingual' if model.is_multilingual else 'English-only'} \"\n",
        "    f\"and has {sum(np.prod(p.shape) for p in model.parameters()):,} parameters.\"\n",
        ")"
      ]
    },
    {
      "cell_type": "code",
      "execution_count": 6,
      "metadata": {
        "id": "vo3gtWtimgHD"
      },
      "outputs": [],
      "source": [
        "# predict without timestamps for short-form transcription\n",
        "options = whisper.DecodingOptions(language=\"en\", without_timestamps=True)"
      ]
    },
    {
      "cell_type": "code",
      "execution_count": 7,
      "metadata": {
        "colab": {
          "base_uri": "https://localhost:8080/",
          "height": 49,
          "referenced_widgets": [
            "dd26a9cb860a49f09ae0054aad5aeafe",
            "50e94c0716b24e23b8a3f71feecbd534",
            "d585e15fd26a4807a4251a5cf294fcb9",
            "23aebda9afa447b6ab1539d51a738afb",
            "b30cb1b0dd734c5fbc1c2f4c701a3322",
            "af6a125abf634d41a2268d11cc40d3a4",
            "3d96fd1d587b421ba72d48468f8d3960",
            "82622b378ecc4b69b5b5e48012b3844c",
            "853d6f5cd7ca42a198bb440854ba885c",
            "dc431bb2a2a849f1997f304d7e43d895",
            "ce215b05235f4415a0dfbf5e49479266"
          ]
        },
        "id": "7OWTn_KvNk59",
        "outputId": "db2d8bb3-cb1e-43fd-9cb2-624f2581300e"
      },
      "outputs": [
        {
          "output_type": "display_data",
          "data": {
            "text/plain": [
              "  0%|          | 0/164 [00:00<?, ?it/s]"
            ],
            "application/vnd.jupyter.widget-view+json": {
              "version_major": 2,
              "version_minor": 0,
              "model_id": "dd26a9cb860a49f09ae0054aad5aeafe"
            }
          },
          "metadata": {}
        }
      ],
      "source": [
        "hypotheses = []\n",
        "references = []\n",
        "\n",
        "for mels, texts in tqdm(loader):\n",
        "    results = model.decode(mels, options)\n",
        "    hypotheses.extend([result.text for result in results])\n",
        "    references.extend(texts)"
      ]
    },
    {
      "cell_type": "code",
      "execution_count": null,
      "metadata": {
        "colab": {
          "base_uri": "https://localhost:8080/",
          "height": 424
        },
        "id": "4nTyynELQ42j",
        "outputId": "1c72d25a-3e87-4c60-a8d1-1da9d2f73bd7"
      },
      "outputs": [
        {
          "data": {
            "text/html": [
              "<div>\n",
              "<style scoped>\n",
              "    .dataframe tbody tr th:only-of-type {\n",
              "        vertical-align: middle;\n",
              "    }\n",
              "\n",
              "    .dataframe tbody tr th {\n",
              "        vertical-align: top;\n",
              "    }\n",
              "\n",
              "    .dataframe thead th {\n",
              "        text-align: right;\n",
              "    }\n",
              "</style>\n",
              "<table border=\"1\" class=\"dataframe\">\n",
              "  <thead>\n",
              "    <tr style=\"text-align: right;\">\n",
              "      <th></th>\n",
              "      <th>hypothesis</th>\n",
              "      <th>reference</th>\n",
              "    </tr>\n",
              "  </thead>\n",
              "  <tbody>\n",
              "    <tr>\n",
              "      <th>0</th>\n",
              "      <td>He hoped there would be stew for dinner, turni...</td>\n",
              "      <td>HE HOPED THERE WOULD BE STEW FOR DINNER TURNIP...</td>\n",
              "    </tr>\n",
              "    <tr>\n",
              "      <th>1</th>\n",
              "      <td>Stuffered into you, his belly counseled him.</td>\n",
              "      <td>STUFF IT INTO YOU HIS BELLY COUNSELLED HIM</td>\n",
              "    </tr>\n",
              "    <tr>\n",
              "      <th>2</th>\n",
              "      <td>After early nightfall the yellow lamps would l...</td>\n",
              "      <td>AFTER EARLY NIGHTFALL THE YELLOW LAMPS WOULD L...</td>\n",
              "    </tr>\n",
              "    <tr>\n",
              "      <th>3</th>\n",
              "      <td>Hello Bertie, any good in your mind?</td>\n",
              "      <td>HELLO BERTIE ANY GOOD IN YOUR MIND</td>\n",
              "    </tr>\n",
              "    <tr>\n",
              "      <th>4</th>\n",
              "      <td>Number 10. Fresh Nelly is waiting on you. Good...</td>\n",
              "      <td>NUMBER TEN FRESH NELLY IS WAITING ON YOU GOOD ...</td>\n",
              "    </tr>\n",
              "    <tr>\n",
              "      <th>...</th>\n",
              "      <td>...</td>\n",
              "      <td>...</td>\n",
              "    </tr>\n",
              "    <tr>\n",
              "      <th>2615</th>\n",
              "      <td>Oh, to shoot my soul's full meaning into futur...</td>\n",
              "      <td>OH TO SHOOT MY SOUL'S FULL MEANING INTO FUTURE...</td>\n",
              "    </tr>\n",
              "    <tr>\n",
              "      <th>2616</th>\n",
              "      <td>Then I, long tried by natural ills, received t...</td>\n",
              "      <td>THEN I LONG TRIED BY NATURAL ILLS RECEIVED THE...</td>\n",
              "    </tr>\n",
              "    <tr>\n",
              "      <th>2617</th>\n",
              "      <td>I love thee freely as men strive for right. I ...</td>\n",
              "      <td>I LOVE THEE FREELY AS MEN STRIVE FOR RIGHT I L...</td>\n",
              "    </tr>\n",
              "    <tr>\n",
              "      <th>2618</th>\n",
              "      <td>I love thee with the passion put to use, in my...</td>\n",
              "      <td>I LOVE THEE WITH THE PASSION PUT TO USE IN MY ...</td>\n",
              "    </tr>\n",
              "    <tr>\n",
              "      <th>2619</th>\n",
              "      <td>I love thee with the love I seemed to lose wit...</td>\n",
              "      <td>I LOVE THEE WITH A LOVE I SEEMED TO LOSE WITH ...</td>\n",
              "    </tr>\n",
              "  </tbody>\n",
              "</table>\n",
              "<p>2620 rows × 2 columns</p>\n",
              "</div>"
            ],
            "text/plain": [
              "                                             hypothesis  \\\n",
              "0     He hoped there would be stew for dinner, turni...   \n",
              "1          Stuffered into you, his belly counseled him.   \n",
              "2     After early nightfall the yellow lamps would l...   \n",
              "3                  Hello Bertie, any good in your mind?   \n",
              "4     Number 10. Fresh Nelly is waiting on you. Good...   \n",
              "...                                                 ...   \n",
              "2615  Oh, to shoot my soul's full meaning into futur...   \n",
              "2616  Then I, long tried by natural ills, received t...   \n",
              "2617  I love thee freely as men strive for right. I ...   \n",
              "2618  I love thee with the passion put to use, in my...   \n",
              "2619  I love thee with the love I seemed to lose wit...   \n",
              "\n",
              "                                              reference  \n",
              "0     HE HOPED THERE WOULD BE STEW FOR DINNER TURNIP...  \n",
              "1            STUFF IT INTO YOU HIS BELLY COUNSELLED HIM  \n",
              "2     AFTER EARLY NIGHTFALL THE YELLOW LAMPS WOULD L...  \n",
              "3                    HELLO BERTIE ANY GOOD IN YOUR MIND  \n",
              "4     NUMBER TEN FRESH NELLY IS WAITING ON YOU GOOD ...  \n",
              "...                                                 ...  \n",
              "2615  OH TO SHOOT MY SOUL'S FULL MEANING INTO FUTURE...  \n",
              "2616  THEN I LONG TRIED BY NATURAL ILLS RECEIVED THE...  \n",
              "2617  I LOVE THEE FREELY AS MEN STRIVE FOR RIGHT I L...  \n",
              "2618  I LOVE THEE WITH THE PASSION PUT TO USE IN MY ...  \n",
              "2619  I LOVE THEE WITH A LOVE I SEEMED TO LOSE WITH ...  \n",
              "\n",
              "[2620 rows x 2 columns]"
            ]
          },
          "execution_count": 8,
          "metadata": {},
          "output_type": "execute_result"
        }
      ],
      "source": [
        "data = pd.DataFrame(dict(hypothesis=hypotheses, reference=references))\n",
        "data"
      ]
    },
    {
      "cell_type": "markdown",
      "metadata": {
        "id": "HPppEJRXX4ox"
      },
      "source": [
        "# Calculating the word error rate\n",
        "\n",
        "Now, we use our English normalizer implementation to standardize the transcription and calculate the WER."
      ]
    },
    {
      "cell_type": "code",
      "execution_count": null,
      "metadata": {
        "id": "dl-KBDflMhrg"
      },
      "outputs": [],
      "source": [
        "import jiwer\n",
        "from whisper.normalizers import EnglishTextNormalizer\n",
        "\n",
        "normalizer = EnglishTextNormalizer()"
      ]
    },
    {
      "cell_type": "code",
      "execution_count": null,
      "metadata": {
        "colab": {
          "base_uri": "https://localhost:8080/",
          "height": 641
        },
        "id": "6-O048q4WI4o",
        "outputId": "f2089bc9-f535-441e-f192-26e52ae82b5e"
      },
      "outputs": [
        {
          "data": {
            "text/html": [
              "<div>\n",
              "<style scoped>\n",
              "    .dataframe tbody tr th:only-of-type {\n",
              "        vertical-align: middle;\n",
              "    }\n",
              "\n",
              "    .dataframe tbody tr th {\n",
              "        vertical-align: top;\n",
              "    }\n",
              "\n",
              "    .dataframe thead th {\n",
              "        text-align: right;\n",
              "    }\n",
              "</style>\n",
              "<table border=\"1\" class=\"dataframe\">\n",
              "  <thead>\n",
              "    <tr style=\"text-align: right;\">\n",
              "      <th></th>\n",
              "      <th>hypothesis</th>\n",
              "      <th>reference</th>\n",
              "      <th>hypothesis_clean</th>\n",
              "      <th>reference_clean</th>\n",
              "    </tr>\n",
              "  </thead>\n",
              "  <tbody>\n",
              "    <tr>\n",
              "      <th>0</th>\n",
              "      <td>He hoped there would be stew for dinner, turni...</td>\n",
              "      <td>HE HOPED THERE WOULD BE STEW FOR DINNER TURNIP...</td>\n",
              "      <td>he hoped there would be stew for dinner turnip...</td>\n",
              "      <td>he hoped there would be stew for dinner turnip...</td>\n",
              "    </tr>\n",
              "    <tr>\n",
              "      <th>1</th>\n",
              "      <td>Stuffered into you, his belly counseled him.</td>\n",
              "      <td>STUFF IT INTO YOU HIS BELLY COUNSELLED HIM</td>\n",
              "      <td>stuffered into you his belly counseled him</td>\n",
              "      <td>stuff it into you his belly counseled him</td>\n",
              "    </tr>\n",
              "    <tr>\n",
              "      <th>2</th>\n",
              "      <td>After early nightfall the yellow lamps would l...</td>\n",
              "      <td>AFTER EARLY NIGHTFALL THE YELLOW LAMPS WOULD L...</td>\n",
              "      <td>after early nightfall the yellow lamps would l...</td>\n",
              "      <td>after early nightfall the yellow lamps would l...</td>\n",
              "    </tr>\n",
              "    <tr>\n",
              "      <th>3</th>\n",
              "      <td>Hello Bertie, any good in your mind?</td>\n",
              "      <td>HELLO BERTIE ANY GOOD IN YOUR MIND</td>\n",
              "      <td>hello bertie any good in your mind</td>\n",
              "      <td>hello bertie any good in your mind</td>\n",
              "    </tr>\n",
              "    <tr>\n",
              "      <th>4</th>\n",
              "      <td>Number 10. Fresh Nelly is waiting on you. Good...</td>\n",
              "      <td>NUMBER TEN FRESH NELLY IS WAITING ON YOU GOOD ...</td>\n",
              "      <td>number 10 fresh nelly is waiting on you good n...</td>\n",
              "      <td>number 10 fresh nelly is waiting on you good n...</td>\n",
              "    </tr>\n",
              "    <tr>\n",
              "      <th>...</th>\n",
              "      <td>...</td>\n",
              "      <td>...</td>\n",
              "      <td>...</td>\n",
              "      <td>...</td>\n",
              "    </tr>\n",
              "    <tr>\n",
              "      <th>2615</th>\n",
              "      <td>Oh, to shoot my soul's full meaning into futur...</td>\n",
              "      <td>OH TO SHOOT MY SOUL'S FULL MEANING INTO FUTURE...</td>\n",
              "      <td>0 to shoot my soul is full meaning into future...</td>\n",
              "      <td>0 to shoot my soul is full meaning into future...</td>\n",
              "    </tr>\n",
              "    <tr>\n",
              "      <th>2616</th>\n",
              "      <td>Then I, long tried by natural ills, received t...</td>\n",
              "      <td>THEN I LONG TRIED BY NATURAL ILLS RECEIVED THE...</td>\n",
              "      <td>then i long tried by natural ills received the...</td>\n",
              "      <td>then i long tried by natural ills received the...</td>\n",
              "    </tr>\n",
              "    <tr>\n",
              "      <th>2617</th>\n",
              "      <td>I love thee freely as men strive for right. I ...</td>\n",
              "      <td>I LOVE THEE FREELY AS MEN STRIVE FOR RIGHT I L...</td>\n",
              "      <td>i love thee freely as men strive for right i l...</td>\n",
              "      <td>i love thee freely as men strive for right i l...</td>\n",
              "    </tr>\n",
              "    <tr>\n",
              "      <th>2618</th>\n",
              "      <td>I love thee with the passion put to use, in my...</td>\n",
              "      <td>I LOVE THEE WITH THE PASSION PUT TO USE IN MY ...</td>\n",
              "      <td>i love thee with the passion put to use in my ...</td>\n",
              "      <td>i love thee with the passion put to use in my ...</td>\n",
              "    </tr>\n",
              "    <tr>\n",
              "      <th>2619</th>\n",
              "      <td>I love thee with the love I seemed to lose wit...</td>\n",
              "      <td>I LOVE THEE WITH A LOVE I SEEMED TO LOSE WITH ...</td>\n",
              "      <td>i love thee with the love i seemed to lose wit...</td>\n",
              "      <td>i love thee with a love i seemed to lose with ...</td>\n",
              "    </tr>\n",
              "  </tbody>\n",
              "</table>\n",
              "<p>2620 rows × 4 columns</p>\n",
              "</div>"
            ],
            "text/plain": [
              "                                             hypothesis  \\\n",
              "0     He hoped there would be stew for dinner, turni...   \n",
              "1          Stuffered into you, his belly counseled him.   \n",
              "2     After early nightfall the yellow lamps would l...   \n",
              "3                  Hello Bertie, any good in your mind?   \n",
              "4     Number 10. Fresh Nelly is waiting on you. Good...   \n",
              "...                                                 ...   \n",
              "2615  Oh, to shoot my soul's full meaning into futur...   \n",
              "2616  Then I, long tried by natural ills, received t...   \n",
              "2617  I love thee freely as men strive for right. I ...   \n",
              "2618  I love thee with the passion put to use, in my...   \n",
              "2619  I love thee with the love I seemed to lose wit...   \n",
              "\n",
              "                                              reference  \\\n",
              "0     HE HOPED THERE WOULD BE STEW FOR DINNER TURNIP...   \n",
              "1            STUFF IT INTO YOU HIS BELLY COUNSELLED HIM   \n",
              "2     AFTER EARLY NIGHTFALL THE YELLOW LAMPS WOULD L...   \n",
              "3                    HELLO BERTIE ANY GOOD IN YOUR MIND   \n",
              "4     NUMBER TEN FRESH NELLY IS WAITING ON YOU GOOD ...   \n",
              "...                                                 ...   \n",
              "2615  OH TO SHOOT MY SOUL'S FULL MEANING INTO FUTURE...   \n",
              "2616  THEN I LONG TRIED BY NATURAL ILLS RECEIVED THE...   \n",
              "2617  I LOVE THEE FREELY AS MEN STRIVE FOR RIGHT I L...   \n",
              "2618  I LOVE THEE WITH THE PASSION PUT TO USE IN MY ...   \n",
              "2619  I LOVE THEE WITH A LOVE I SEEMED TO LOSE WITH ...   \n",
              "\n",
              "                                       hypothesis_clean  \\\n",
              "0     he hoped there would be stew for dinner turnip...   \n",
              "1            stuffered into you his belly counseled him   \n",
              "2     after early nightfall the yellow lamps would l...   \n",
              "3                    hello bertie any good in your mind   \n",
              "4     number 10 fresh nelly is waiting on you good n...   \n",
              "...                                                 ...   \n",
              "2615  0 to shoot my soul is full meaning into future...   \n",
              "2616  then i long tried by natural ills received the...   \n",
              "2617  i love thee freely as men strive for right i l...   \n",
              "2618  i love thee with the passion put to use in my ...   \n",
              "2619  i love thee with the love i seemed to lose wit...   \n",
              "\n",
              "                                        reference_clean  \n",
              "0     he hoped there would be stew for dinner turnip...  \n",
              "1             stuff it into you his belly counseled him  \n",
              "2     after early nightfall the yellow lamps would l...  \n",
              "3                    hello bertie any good in your mind  \n",
              "4     number 10 fresh nelly is waiting on you good n...  \n",
              "...                                                 ...  \n",
              "2615  0 to shoot my soul is full meaning into future...  \n",
              "2616  then i long tried by natural ills received the...  \n",
              "2617  i love thee freely as men strive for right i l...  \n",
              "2618  i love thee with the passion put to use in my ...  \n",
              "2619  i love thee with a love i seemed to lose with ...  \n",
              "\n",
              "[2620 rows x 4 columns]"
            ]
          },
          "execution_count": 10,
          "metadata": {},
          "output_type": "execute_result"
        }
      ],
      "source": [
        "data[\"hypothesis_clean\"] = [normalizer(text) for text in data[\"hypothesis\"]]\n",
        "data[\"reference_clean\"] = [normalizer(text) for text in data[\"reference\"]]\n",
        "data"
      ]
    },
    {
      "cell_type": "code",
      "execution_count": null,
      "metadata": {
        "colab": {
          "base_uri": "https://localhost:8080/"
        },
        "id": "EBGSITeBYPTT",
        "outputId": "7b3dbe7c-a37e-4a07-a50a-b27d5f88b68f"
      },
      "outputs": [
        {
          "name": "stdout",
          "output_type": "stream",
          "text": [
            "WER: 4.26 %\n"
          ]
        }
      ],
      "source": [
        "wer = jiwer.wer(list(data[\"reference_clean\"]), list(data[\"hypothesis_clean\"]))\n",
        "\n",
        "print(f\"WER: {wer * 100:.2f} %\")"
      ]
    },
    {
      "cell_type": "code",
      "source": [
        "import whisper\n",
        "\n",
        "model = whisper.load_model(\"turbo\")\n",
        "result = model.transcribe(\"markz.mp3\")\n",
        "print(result[\"text\"])"
      ],
      "metadata": {
        "id": "pJpkA-mynm9d"
      },
      "execution_count": null,
      "outputs": []
    }
  ],
  "metadata": {
    "accelerator": "GPU",
    "colab": {
      "provenance": [],
      "machine_shape": "hm",
      "gpuType": "A100"
    },
    "kernelspec": {
      "display_name": "Python 3",
      "name": "python3"
    },
    "language_info": {
      "codemirror_mode": {
        "name": "ipython",
        "version": 3
      },
      "file_extension": ".py",
      "mimetype": "text/x-python",
      "name": "python",
      "nbconvert_exporter": "python",
      "pygments_lexer": "ipython3",
      "version": "3.9.9"
    },
    "widgets": {
      "application/vnd.jupyter.widget-state+json": {
        "dd26a9cb860a49f09ae0054aad5aeafe": {
          "model_module": "@jupyter-widgets/controls",
          "model_name": "HBoxModel",
          "model_module_version": "1.5.0",
          "state": {
            "_dom_classes": [],
            "_model_module": "@jupyter-widgets/controls",
            "_model_module_version": "1.5.0",
            "_model_name": "HBoxModel",
            "_view_count": null,
            "_view_module": "@jupyter-widgets/controls",
            "_view_module_version": "1.5.0",
            "_view_name": "HBoxView",
            "box_style": "",
            "children": [
              "IPY_MODEL_50e94c0716b24e23b8a3f71feecbd534",
              "IPY_MODEL_d585e15fd26a4807a4251a5cf294fcb9",
              "IPY_MODEL_23aebda9afa447b6ab1539d51a738afb"
            ],
            "layout": "IPY_MODEL_b30cb1b0dd734c5fbc1c2f4c701a3322"
          }
        },
        "50e94c0716b24e23b8a3f71feecbd534": {
          "model_module": "@jupyter-widgets/controls",
          "model_name": "HTMLModel",
          "model_module_version": "1.5.0",
          "state": {
            "_dom_classes": [],
            "_model_module": "@jupyter-widgets/controls",
            "_model_module_version": "1.5.0",
            "_model_name": "HTMLModel",
            "_view_count": null,
            "_view_module": "@jupyter-widgets/controls",
            "_view_module_version": "1.5.0",
            "_view_name": "HTMLView",
            "description": "",
            "description_tooltip": null,
            "layout": "IPY_MODEL_af6a125abf634d41a2268d11cc40d3a4",
            "placeholder": "​",
            "style": "IPY_MODEL_3d96fd1d587b421ba72d48468f8d3960",
            "value": "100%"
          }
        },
        "d585e15fd26a4807a4251a5cf294fcb9": {
          "model_module": "@jupyter-widgets/controls",
          "model_name": "FloatProgressModel",
          "model_module_version": "1.5.0",
          "state": {
            "_dom_classes": [],
            "_model_module": "@jupyter-widgets/controls",
            "_model_module_version": "1.5.0",
            "_model_name": "FloatProgressModel",
            "_view_count": null,
            "_view_module": "@jupyter-widgets/controls",
            "_view_module_version": "1.5.0",
            "_view_name": "ProgressView",
            "bar_style": "success",
            "description": "",
            "description_tooltip": null,
            "layout": "IPY_MODEL_82622b378ecc4b69b5b5e48012b3844c",
            "max": 164,
            "min": 0,
            "orientation": "horizontal",
            "style": "IPY_MODEL_853d6f5cd7ca42a198bb440854ba885c",
            "value": 164
          }
        },
        "23aebda9afa447b6ab1539d51a738afb": {
          "model_module": "@jupyter-widgets/controls",
          "model_name": "HTMLModel",
          "model_module_version": "1.5.0",
          "state": {
            "_dom_classes": [],
            "_model_module": "@jupyter-widgets/controls",
            "_model_module_version": "1.5.0",
            "_model_name": "HTMLModel",
            "_view_count": null,
            "_view_module": "@jupyter-widgets/controls",
            "_view_module_version": "1.5.0",
            "_view_name": "HTMLView",
            "description": "",
            "description_tooltip": null,
            "layout": "IPY_MODEL_dc431bb2a2a849f1997f304d7e43d895",
            "placeholder": "​",
            "style": "IPY_MODEL_ce215b05235f4415a0dfbf5e49479266",
            "value": " 164/164 [01:36&lt;00:00,  1.76it/s]"
          }
        },
        "b30cb1b0dd734c5fbc1c2f4c701a3322": {
          "model_module": "@jupyter-widgets/base",
          "model_name": "LayoutModel",
          "model_module_version": "1.2.0",
          "state": {
            "_model_module": "@jupyter-widgets/base",
            "_model_module_version": "1.2.0",
            "_model_name": "LayoutModel",
            "_view_count": null,
            "_view_module": "@jupyter-widgets/base",
            "_view_module_version": "1.2.0",
            "_view_name": "LayoutView",
            "align_content": null,
            "align_items": null,
            "align_self": null,
            "border": null,
            "bottom": null,
            "display": null,
            "flex": null,
            "flex_flow": null,
            "grid_area": null,
            "grid_auto_columns": null,
            "grid_auto_flow": null,
            "grid_auto_rows": null,
            "grid_column": null,
            "grid_gap": null,
            "grid_row": null,
            "grid_template_areas": null,
            "grid_template_columns": null,
            "grid_template_rows": null,
            "height": null,
            "justify_content": null,
            "justify_items": null,
            "left": null,
            "margin": null,
            "max_height": null,
            "max_width": null,
            "min_height": null,
            "min_width": null,
            "object_fit": null,
            "object_position": null,
            "order": null,
            "overflow": null,
            "overflow_x": null,
            "overflow_y": null,
            "padding": null,
            "right": null,
            "top": null,
            "visibility": null,
            "width": null
          }
        },
        "af6a125abf634d41a2268d11cc40d3a4": {
          "model_module": "@jupyter-widgets/base",
          "model_name": "LayoutModel",
          "model_module_version": "1.2.0",
          "state": {
            "_model_module": "@jupyter-widgets/base",
            "_model_module_version": "1.2.0",
            "_model_name": "LayoutModel",
            "_view_count": null,
            "_view_module": "@jupyter-widgets/base",
            "_view_module_version": "1.2.0",
            "_view_name": "LayoutView",
            "align_content": null,
            "align_items": null,
            "align_self": null,
            "border": null,
            "bottom": null,
            "display": null,
            "flex": null,
            "flex_flow": null,
            "grid_area": null,
            "grid_auto_columns": null,
            "grid_auto_flow": null,
            "grid_auto_rows": null,
            "grid_column": null,
            "grid_gap": null,
            "grid_row": null,
            "grid_template_areas": null,
            "grid_template_columns": null,
            "grid_template_rows": null,
            "height": null,
            "justify_content": null,
            "justify_items": null,
            "left": null,
            "margin": null,
            "max_height": null,
            "max_width": null,
            "min_height": null,
            "min_width": null,
            "object_fit": null,
            "object_position": null,
            "order": null,
            "overflow": null,
            "overflow_x": null,
            "overflow_y": null,
            "padding": null,
            "right": null,
            "top": null,
            "visibility": null,
            "width": null
          }
        },
        "3d96fd1d587b421ba72d48468f8d3960": {
          "model_module": "@jupyter-widgets/controls",
          "model_name": "DescriptionStyleModel",
          "model_module_version": "1.5.0",
          "state": {
            "_model_module": "@jupyter-widgets/controls",
            "_model_module_version": "1.5.0",
            "_model_name": "DescriptionStyleModel",
            "_view_count": null,
            "_view_module": "@jupyter-widgets/base",
            "_view_module_version": "1.2.0",
            "_view_name": "StyleView",
            "description_width": ""
          }
        },
        "82622b378ecc4b69b5b5e48012b3844c": {
          "model_module": "@jupyter-widgets/base",
          "model_name": "LayoutModel",
          "model_module_version": "1.2.0",
          "state": {
            "_model_module": "@jupyter-widgets/base",
            "_model_module_version": "1.2.0",
            "_model_name": "LayoutModel",
            "_view_count": null,
            "_view_module": "@jupyter-widgets/base",
            "_view_module_version": "1.2.0",
            "_view_name": "LayoutView",
            "align_content": null,
            "align_items": null,
            "align_self": null,
            "border": null,
            "bottom": null,
            "display": null,
            "flex": null,
            "flex_flow": null,
            "grid_area": null,
            "grid_auto_columns": null,
            "grid_auto_flow": null,
            "grid_auto_rows": null,
            "grid_column": null,
            "grid_gap": null,
            "grid_row": null,
            "grid_template_areas": null,
            "grid_template_columns": null,
            "grid_template_rows": null,
            "height": null,
            "justify_content": null,
            "justify_items": null,
            "left": null,
            "margin": null,
            "max_height": null,
            "max_width": null,
            "min_height": null,
            "min_width": null,
            "object_fit": null,
            "object_position": null,
            "order": null,
            "overflow": null,
            "overflow_x": null,
            "overflow_y": null,
            "padding": null,
            "right": null,
            "top": null,
            "visibility": null,
            "width": null
          }
        },
        "853d6f5cd7ca42a198bb440854ba885c": {
          "model_module": "@jupyter-widgets/controls",
          "model_name": "ProgressStyleModel",
          "model_module_version": "1.5.0",
          "state": {
            "_model_module": "@jupyter-widgets/controls",
            "_model_module_version": "1.5.0",
            "_model_name": "ProgressStyleModel",
            "_view_count": null,
            "_view_module": "@jupyter-widgets/base",
            "_view_module_version": "1.2.0",
            "_view_name": "StyleView",
            "bar_color": null,
            "description_width": ""
          }
        },
        "dc431bb2a2a849f1997f304d7e43d895": {
          "model_module": "@jupyter-widgets/base",
          "model_name": "LayoutModel",
          "model_module_version": "1.2.0",
          "state": {
            "_model_module": "@jupyter-widgets/base",
            "_model_module_version": "1.2.0",
            "_model_name": "LayoutModel",
            "_view_count": null,
            "_view_module": "@jupyter-widgets/base",
            "_view_module_version": "1.2.0",
            "_view_name": "LayoutView",
            "align_content": null,
            "align_items": null,
            "align_self": null,
            "border": null,
            "bottom": null,
            "display": null,
            "flex": null,
            "flex_flow": null,
            "grid_area": null,
            "grid_auto_columns": null,
            "grid_auto_flow": null,
            "grid_auto_rows": null,
            "grid_column": null,
            "grid_gap": null,
            "grid_row": null,
            "grid_template_areas": null,
            "grid_template_columns": null,
            "grid_template_rows": null,
            "height": null,
            "justify_content": null,
            "justify_items": null,
            "left": null,
            "margin": null,
            "max_height": null,
            "max_width": null,
            "min_height": null,
            "min_width": null,
            "object_fit": null,
            "object_position": null,
            "order": null,
            "overflow": null,
            "overflow_x": null,
            "overflow_y": null,
            "padding": null,
            "right": null,
            "top": null,
            "visibility": null,
            "width": null
          }
        },
        "ce215b05235f4415a0dfbf5e49479266": {
          "model_module": "@jupyter-widgets/controls",
          "model_name": "DescriptionStyleModel",
          "model_module_version": "1.5.0",
          "state": {
            "_model_module": "@jupyter-widgets/controls",
            "_model_module_version": "1.5.0",
            "_model_name": "DescriptionStyleModel",
            "_view_count": null,
            "_view_module": "@jupyter-widgets/base",
            "_view_module_version": "1.2.0",
            "_view_name": "StyleView",
            "description_width": ""
          }
        }
      }
    }
  },
  "nbformat": 4,
  "nbformat_minor": 0
}